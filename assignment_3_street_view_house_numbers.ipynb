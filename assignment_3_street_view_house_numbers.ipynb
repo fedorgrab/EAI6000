{
  "nbformat": 4,
  "nbformat_minor": 0,
  "metadata": {
    "anaconda-cloud": {},
    "kernelspec": {
      "display_name": "Python 3",
      "language": "python",
      "name": "python3"
    },
    "language_info": {
      "codemirror_mode": {
        "name": "ipython",
        "version": 3
      },
      "file_extension": ".py",
      "mimetype": "text/x-python",
      "name": "python",
      "nbconvert_exporter": "python",
      "pygments_lexer": "ipython3",
      "version": "3.7.6"
    },
    "colab": {
      "name": "Assignment_3_Street_View_House_Numbers.ipynb",
      "provenance": [],
      "collapsed_sections": [],
      "toc_visible": true,
      "machine_shape": "hm",
      "include_colab_link": true
    }
  },
  "cells": [
    {
      "cell_type": "markdown",
      "metadata": {
        "id": "view-in-github",
        "colab_type": "text"
      },
      "source": [
        "<a href=\"https://colab.research.google.com/github/fedorgrab/EAI6000/blob/master/assignment_3_street_view_house_numbers.ipynb\" target=\"_parent\"><img src=\"https://colab.research.google.com/assets/colab-badge.svg\" alt=\"Open In Colab\"/></a>"
      ]
    },
    {
      "cell_type": "markdown",
      "metadata": {
        "id": "LGD-Vfytesxf",
        "colab_type": "text"
      },
      "source": [
        "# Street View House Numbers Dataset\n",
        "\n",
        "\n",
        "The [Street View House Numbers Dataset](https://www.openml.org/d/41081) contains 32-by-32 RGB images centered around a single digit of a house number appearing in Google Street View. Many of the images do contain some distractors at the sides. It consists of 10 classes, 1 for each digit. Digit '1' has label 0, '9' has label 8 and '0' has label 9. Your goal is to build a model that recognizes the correct digit."
      ]
    },
    {
      "cell_type": "code",
      "metadata": {
        "id": "8FAlXkmFesxh",
        "colab_type": "code",
        "outputId": "1f916d96-9198-4109-d9b6-c88312d775f5",
        "colab": {
          "base_uri": "https://localhost:8080/",
          "height": 309
        }
      },
      "source": [
        "!pip install openml # Uncomment to run in Google Colab"
      ],
      "execution_count": 1,
      "outputs": [
        {
          "output_type": "stream",
          "text": [
            "Requirement already satisfied: openml in /usr/local/lib/python3.6/dist-packages (0.10.2)\n",
            "Requirement already satisfied: scipy>=0.13.3 in /usr/local/lib/python3.6/dist-packages (from openml) (1.4.1)\n",
            "Requirement already satisfied: requests in /usr/local/lib/python3.6/dist-packages (from openml) (2.21.0)\n",
            "Requirement already satisfied: python-dateutil in /usr/local/lib/python3.6/dist-packages (from openml) (2.6.1)\n",
            "Requirement already satisfied: scikit-learn>=0.18 in /usr/local/lib/python3.6/dist-packages (from openml) (0.22.1)\n",
            "Requirement already satisfied: xmltodict in /usr/local/lib/python3.6/dist-packages (from openml) (0.12.0)\n",
            "Requirement already satisfied: liac-arff>=2.4.0 in /usr/local/lib/python3.6/dist-packages (from openml) (2.4.0)\n",
            "Requirement already satisfied: numpy>=1.6.2 in /usr/local/lib/python3.6/dist-packages (from openml) (1.17.5)\n",
            "Requirement already satisfied: pandas>=0.19.2 in /usr/local/lib/python3.6/dist-packages (from openml) (0.25.3)\n",
            "Requirement already satisfied: certifi>=2017.4.17 in /usr/local/lib/python3.6/dist-packages (from requests->openml) (2019.11.28)\n",
            "Requirement already satisfied: urllib3<1.25,>=1.21.1 in /usr/local/lib/python3.6/dist-packages (from requests->openml) (1.24.3)\n",
            "Requirement already satisfied: idna<2.9,>=2.5 in /usr/local/lib/python3.6/dist-packages (from requests->openml) (2.8)\n",
            "Requirement already satisfied: chardet<3.1.0,>=3.0.2 in /usr/local/lib/python3.6/dist-packages (from requests->openml) (3.0.4)\n",
            "Requirement already satisfied: six>=1.5 in /usr/local/lib/python3.6/dist-packages (from python-dateutil->openml) (1.12.0)\n",
            "Requirement already satisfied: joblib>=0.11 in /usr/local/lib/python3.6/dist-packages (from scikit-learn>=0.18->openml) (0.14.1)\n",
            "Requirement already satisfied: pytz>=2017.2 in /usr/local/lib/python3.6/dist-packages (from pandas>=0.19.2->openml) (2018.9)\n"
          ],
          "name": "stdout"
        }
      ]
    },
    {
      "cell_type": "code",
      "metadata": {
        "id": "ctNHCJhDPnxz",
        "colab_type": "code",
        "colab": {
          "base_uri": "https://localhost:8080/",
          "height": 34
        },
        "outputId": "c6526345-ed07-4f4f-f6c3-d9fcdce80720"
      },
      "source": [
        "import time\n",
        "from contextlib import suppress\n",
        "import openml as oml\n",
        "from google.colab import drive\n",
        "import numpy as np\n",
        "import matplotlib.pyplot as plt\n",
        "import sklearn\n",
        "import pickle\n",
        "import warnings\n",
        "with suppress(Exception):\n",
        "  %tensorflow_version 2.x\n",
        "  \n",
        "import tensorflow as tf\n",
        "from tensorflow import keras\n",
        "\n",
        "warnings.filterwarnings('ignore')\n",
        "%matplotlib inline"
      ],
      "execution_count": 2,
      "outputs": [
        {
          "output_type": "stream",
          "text": [
            "TensorFlow 2.x selected.\n"
          ],
          "name": "stdout"
        }
      ]
    },
    {
      "cell_type": "markdown",
      "metadata": {
        "id": "U9Ovh9B3RJCn",
        "colab_type": "text"
      },
      "source": [
        "Constants:"
      ]
    },
    {
      "cell_type": "code",
      "metadata": {
        "id": "NlB2ItStREci",
        "colab_type": "code",
        "colab": {}
      },
      "source": [
        "BASE_DIR = \"/content/drive/My Drive/homework/\""
      ],
      "execution_count": 0,
      "outputs": []
    },
    {
      "cell_type": "markdown",
      "metadata": {
        "id": "cwHS-VqARUUy",
        "colab_type": "text"
      },
      "source": [
        "Settings:"
      ]
    },
    {
      "cell_type": "code",
      "metadata": {
        "id": "rnRFNol4RWBn",
        "colab_type": "code",
        "colab": {
          "base_uri": "https://localhost:8080/",
          "height": 54
        },
        "outputId": "b8d62033-da6d-4102-c503-8f699cb98433"
      },
      "source": [
        "# Switches:\n",
        "GET_SAVED_DATA_FROM_DRIVE = True\n",
        "DARK_THEME = True\n",
        "\n",
        "# Other Settings:\n",
        "drive.mount(\"/content/drive\")\n",
        "matplotlib_theme = \"dark_background\" if DARK_THEME else \"seaborn\"\n",
        "plt.style.use(matplotlib_theme)"
      ],
      "execution_count": 4,
      "outputs": [
        {
          "output_type": "stream",
          "text": [
            "Drive already mounted at /content/drive; to attempt to forcibly remount, call drive.mount(\"/content/drive\", force_remount=True).\n"
          ],
          "name": "stdout"
        }
      ]
    },
    {
      "cell_type": "code",
      "metadata": {
        "id": "KBpDMv1Vesxl",
        "colab_type": "code",
        "colab": {}
      },
      "source": [
        "# Download Streetview data. Takes a while to download (5-10 min).\n",
        "if not GET_SAVED_DATA_FROM_DRIVE:\n",
        "    SVHN = oml.datasets.get_dataset(41081)\n",
        "\n",
        "    X, y, cats, attrs = SVHN.get_data(\n",
        "        dataset_format=\"array\", \n",
        "        target=SVHN.default_target_attribute\n",
        "    )"
      ],
      "execution_count": 0,
      "outputs": []
    },
    {
      "cell_type": "code",
      "metadata": {
        "id": "lNMKV-mo6uWP",
        "colab_type": "code",
        "colab": {}
      },
      "source": [
        "if not GET_SAVED_DATA_FROM_DRIVE:\n",
        "    with open(f\"{BASE_DIR}SVHN.pkl\", \"wb\") as f:\n",
        "        pickle.dump(X, f, protocol=pickle.HIGHEST_PROTOCOL)\n",
        "        pickle.dump(y, f, protocol=pickle.HIGHEST_PROTOCOL)   \n",
        "        pickle.dump(cats, f, protocol=pickle.HIGHEST_PROTOCOL)\n",
        "        pickle.dump(attrs, f, protocol=pickle.HIGHEST_PROTOCOL)"
      ],
      "execution_count": 0,
      "outputs": []
    },
    {
      "cell_type": "code",
      "metadata": {
        "id": "NNc6MBHe8t4C",
        "colab_type": "code",
        "colab": {}
      },
      "source": [
        "if GET_SAVED_DATA_FROM_DRIVE:\n",
        "    with open(f\"{BASE_DIR}SVHN.pkl\", \"rb\") as f:\n",
        "        X = pickle.load(f)\n",
        "        y = pickle.load(f)\n",
        "        cats = pickle.load(f)\n",
        "        attrs = pickle.load(f)"
      ],
      "execution_count": 0,
      "outputs": []
    },
    {
      "cell_type": "code",
      "metadata": {
        "id": "OHk2MkxDB6cq",
        "colab_type": "code",
        "colab": {}
      },
      "source": [
        "class_labels = { i: i + 1 if i < 9 else 0  for i in range(10)}"
      ],
      "execution_count": 0,
      "outputs": []
    },
    {
      "cell_type": "markdown",
      "metadata": {
        "id": "ZC2877HRDqhV",
        "colab_type": "text"
      },
      "source": [
        "### What is the shape of the image data X? How many images are there? Explain why each image has 3072 values."
      ]
    },
    {
      "cell_type": "code",
      "metadata": {
        "id": "OPTaJNbUC35Y",
        "colab_type": "code",
        "outputId": "be463b87-7999-447a-b0fd-dace60faf254",
        "colab": {
          "base_uri": "https://localhost:8080/",
          "height": 34
        }
      },
      "source": [
        "X.shape"
      ],
      "execution_count": 9,
      "outputs": [
        {
          "output_type": "execute_result",
          "data": {
            "text/plain": [
              "(99289, 3072)"
            ]
          },
          "metadata": {
            "tags": []
          },
          "execution_count": 9
        }
      ]
    },
    {
      "cell_type": "markdown",
      "metadata": {
        "id": "G2sANYN0UgS-",
        "colab_type": "text"
      },
      "source": [
        "1. Array X has 99289 images. \n",
        "2. Images are presented in one dimensional arrays, which have to be reshaped to 3 32x32 arrays.\n",
        "3. That means that tensor has shape (99289, 3, 32, 32)"
      ]
    },
    {
      "cell_type": "markdown",
      "metadata": {
        "id": "CdbVIX_zatiS",
        "colab_type": "text"
      },
      "source": [
        "### You can use the following function to plot the first 10 images to get a sense of the data."
      ]
    },
    {
      "cell_type": "code",
      "metadata": {
        "id": "XzE3X5Etesxo",
        "colab_type": "code",
        "outputId": "67f37954-bc38-46e8-deb3-6d9066cefa78",
        "colab": {
          "base_uri": "https://localhost:8080/",
          "height": 94
        }
      },
      "source": [
        "# Plots image. Use grayscale=True for plotting grayscale images\n",
        "def plot_images(X, y, grayscale=False):\n",
        "    fig, axes = plt.subplots(1, len(X),  figsize=(10, 5))\n",
        "    if grayscale:\n",
        "        [ax.imshow(X[n].reshape(32, 32) / 255, cmap='gray')\n",
        "         for n,ax in enumerate(axes)]\n",
        "    else:\n",
        "        [ax.imshow(X[n].reshape(32, 32, 3)/255) for n, ax in enumerate(axes)]\n",
        "    [ax.set_title((y[n]+1)) for n, ax in enumerate(axes)]\n",
        "    [ax.axis('off') for ax in axes]\n",
        "\n",
        "plot_images(X[10:20], y[10:20])"
      ],
      "execution_count": 10,
      "outputs": [
        {
          "output_type": "display_data",
          "data": {
            "image/png": "[encoded data removed]",
            "text/plain": [
              "<Figure size 720x360 with 10 Axes>"
            ]
          },
          "metadata": {
            "tags": []
          }
        }
      ]
    },
    {
      "cell_type": "markdown",
      "metadata": {
        "id": "SEOqfNn0WEWn",
        "colab_type": "text"
      },
      "source": [
        "### Next, we will convert the images to greyscale and normalize the data to fall within the range 0 to 1. Plot the first 10 images to verify that the conversion worked."
      ]
    },
    {
      "cell_type": "markdown",
      "metadata": {
        "id": "ZcjVJGLDYFtk",
        "colab_type": "text"
      },
      "source": [
        "To convert images to grayscale format I decided to choose Luminance method: weighted average of rgb channels with weights: 0.3R + 0.59G + 0.11B.\n",
        "\n"
      ]
    },
    {
      "cell_type": "code",
      "metadata": {
        "id": "Z0AZiyprYIeW",
        "colab_type": "code",
        "colab": {}
      },
      "source": [
        "X_g = X.reshape(99289, 32, 32, 3)\n",
        "\n",
        "r, g, b = X_g[:, :, :, 0], X_g[:,:,:, 1], X_g[:,:,:,2]\n",
        "X_g = ((0.3 * r + 0.59 * g + 0.11 * b) / 255).reshape(99289, 1024)"
      ],
      "execution_count": 0,
      "outputs": []
    },
    {
      "cell_type": "code",
      "metadata": {
        "id": "QcF5Pf5Jwa1U",
        "colab_type": "code",
        "outputId": "c364606e-f135-445e-b048-36b2ad8554fa",
        "colab": {
          "base_uri": "https://localhost:8080/",
          "height": 94
        }
      },
      "source": [
        "plot_images(X_g[10:20], y[10:20], grayscale=True)"
      ],
      "execution_count": 12,
      "outputs": [
        {
          "output_type": "display_data",
          "data": {
            "image/png": "[encoded data removed]",
            "text/plain": [
              "<Figure size 720x360 with 10 Axes>"
            ]
          },
          "metadata": {
            "tags": []
          }
        }
      ]
    },
    {
      "cell_type": "markdown",
      "metadata": {
        "id": "7YYnvhirbCM2",
        "colab_type": "text"
      },
      "source": [
        "### Evaluate different linear models\n",
        "\n",
        "1. To save time, use a stratified 1% subsample of the data. Plot the distribution of the classes (as a histogram) for both the original data and the subsample to verify this was done correctly. (hint: a quick way to do it is to borrow the stratify option with sklearn.model_selection.train_test_split)\n",
        "2. Evaluate k-Nearest Neighbors, Logistic Regression and Linear SVM on this sample, using their default hyperparameter settings. Use cross-validation with 3 folds, output the training accuracy and test accuracy (feel free to reuse code from past assignments). [Time](https://stackoverflow.com/questions/1557571/how-do-i-get-time-of-a-python-programs-execution) how long execution takes.\n",
        "3. Discuss the results. Are they what you expected? Are the models over/underfitting? What should be done to improve the results?\n",
        "4. Now evaluate the same models using 3% of the data. Discuss the results. Is the run time what you expect? Which models perform better or worse than the 1% training? How can you explain this in terms of underfitting/overfitting?"
      ]
    },
    {
      "cell_type": "code",
      "metadata": {
        "id": "CiLRHSWkHvZH",
        "colab_type": "code",
        "colab": {}
      },
      "source": [
        "import seaborn as sns\n",
        "import pandas as pd\n",
        "\n",
        "def dist_plot(values):\n",
        "    val_counts = pd.Series(values).value_counts()\n",
        "    plt.bar(val_counts.index, val_counts.values)\n",
        "    plt.title(\"Number values distribution plot\")\n",
        "    plt.xlabel(\"Number\")\n",
        "    plt.ylabel(\"Amount of values\")"
      ],
      "execution_count": 0,
      "outputs": []
    },
    {
      "cell_type": "markdown",
      "metadata": {
        "id": "rHMBAMd0CSVw",
        "colab_type": "text"
      },
      "source": [
        "I hope python would include smth like this decorator in builtins, because I really often use my workpiece:"
      ]
    },
    {
      "cell_type": "code",
      "metadata": {
        "id": "5X1tXcDT0SZ-",
        "colab_type": "code",
        "colab": {}
      },
      "source": [
        "import time\n",
        "import functools\n",
        "\n",
        "def time_it(func):\n",
        "\n",
        "    @functools.wraps(func)\n",
        "    def wrapper(*args, **kwargs):\n",
        "        start_time = time.time()\n",
        "        result = func(*args, **kwargs)\n",
        "        print(f\"---- {np.round(time.time() - start_time, 5)} seconds ----\")\n",
        "        return result\n",
        "\n",
        "    return wrapper"
      ],
      "execution_count": 0,
      "outputs": []
    },
    {
      "cell_type": "code",
      "metadata": {
        "id": "j1nh_1T3zLVy",
        "colab_type": "code",
        "colab": {}
      },
      "source": [
        "from sklearn.model_selection import cross_validate\n",
        "\n",
        "@time_it\n",
        "def evaluate_learners(classifiers, X, y, number_of_folds=3):\n",
        "    cross_validations = [\n",
        "        cross_validate(model, X, y, return_train_score=True, cv=number_of_folds) \n",
        "        for model in classifiers\n",
        "    ]\n",
        "\n",
        "    return (\n",
        "        list(map(lambda x: x[\"train_score\"], cross_validations)),\n",
        "        list(map(lambda x: x[\"test_score\"], cross_validations))\n",
        "    )\n"
      ],
      "execution_count": 0,
      "outputs": []
    },
    {
      "cell_type": "code",
      "metadata": {
        "id": "qE7B8vgFbu5Y",
        "colab_type": "code",
        "colab": {}
      },
      "source": [
        "from sklearn.model_selection import train_test_split\n",
        "\n",
        "Xs, _, ys, _ = train_test_split(X_g, y, stratify=y, train_size=0.01)"
      ],
      "execution_count": 0,
      "outputs": []
    },
    {
      "cell_type": "code",
      "metadata": {
        "id": "hSIs-PYLJpOy",
        "colab_type": "code",
        "colab": {
          "base_uri": "https://localhost:8080/",
          "height": 404
        },
        "outputId": "14e57895-d652-4fca-98db-3cc6e23333e7"
      },
      "source": [
        "plt.figure(figsize=(13,6))\n",
        "plt.subplot(1,2,1) \n",
        "dist_plot(y)\n",
        "plt.subplot(1,2,2)\n",
        "dist_plot(ys)"
      ],
      "execution_count": 17,
      "outputs": [
        {
          "output_type": "display_data",
          "data": {
            "image/png": "[encoded data removed]",
            "text/plain": [
              "<Figure size 936x432 with 2 Axes>"
            ]
          },
          "metadata": {
            "tags": []
          }
        }
      ]
    },
    {
      "cell_type": "markdown",
      "metadata": {
        "id": "sf73BzRwbo5z",
        "colab_type": "text"
      },
      "source": [
        "The figures pretty much the same, rhus splitting is good"
      ]
    },
    {
      "cell_type": "code",
      "metadata": {
        "id": "piGBeoO8LBpm",
        "colab_type": "code",
        "colab": {
          "base_uri": "https://localhost:8080/",
          "height": 34
        },
        "outputId": "1dffb0f2-738a-4b1c-c3ac-4d9b85c40ed2"
      },
      "source": [
        "from sklearn.linear_model import LogisticRegression\n",
        "from sklearn.neighbors import KNeighborsClassifier\n",
        "from sklearn.svm import LinearSVC\n",
        "\n",
        "classifiers = [LogisticRegression(), KNeighborsClassifier(), LinearSVC()]\n",
        "train_scores, test_scores = evaluate_learners(classifiers, Xs, ys)"
      ],
      "execution_count": 18,
      "outputs": [
        {
          "output_type": "stream",
          "text": [
            "---- 40.75087 seconds ----\n"
          ],
          "name": "stdout"
        }
      ]
    },
    {
      "cell_type": "code",
      "metadata": {
        "id": "HRHzLE-6EvlH",
        "colab_type": "code",
        "colab": {
          "base_uri": "https://localhost:8080/",
          "height": 279
        },
        "outputId": "4fdd369f-b0a7-49b0-8e99-1310facf30b7"
      },
      "source": [
        "def plot_test_train_scores(train_scores, test_scores):\n",
        "    fig, ax = plt.subplots()\n",
        "    width=0.3\n",
        "\n",
        "    ax.barh(\n",
        "        np.arange(len(train_scores)), \n",
        "        np.mean(test_scores, axis=1),\n",
        "        width,\n",
        "        yerr=np.std(test_scores, axis=1), \n",
        "        color='green', \n",
        "        label='test'\n",
        "    )\n",
        "    ax.barh(\n",
        "        np.arange(len(train_scores))-width, \n",
        "        np.mean(train_scores, axis=1), \n",
        "        width,\n",
        "        yerr= np.std(train_scores, axis=1), \n",
        "        color='red', \n",
        "        label='train'\n",
        "    )\n",
        "\n",
        "    for i, te, tr in zip(np.arange(len(train_scores)),test_scores,train_scores):\n",
        "        ax.text(0, i, \"{:.4f} +- {:.4f}\".format(np.mean(te),np.std(te)), color='white', va='center')\n",
        "        ax.text(0, i-width, \"{:.4f} +- {:.4f}\".format(np.mean(tr),np.std(tr)), color='white', va='center')\n",
        "        \n",
        "    ax.set(yticks=np.arange(len(train_scores))-width/2, yticklabels=[c.__class__.__name__ for c in classifiers])\n",
        "    ax.set_xlabel('Accuracy')\n",
        "    ax.legend(bbox_to_anchor=(1.05, 1), loc=2)\n",
        "\n",
        "\n",
        "plot_test_train_scores(train_scores, test_scores)"
      ],
      "execution_count": 19,
      "outputs": [
        {
          "output_type": "display_data",
          "data": {
            "image/png": "[encoded data removed]",
            "text/plain": [
              "<Figure size 432x288 with 1 Axes>"
            ]
          },
          "metadata": {
            "tags": []
          }
        }
      ]
    },
    {
      "cell_type": "code",
      "metadata": {
        "id": "EC1YBHgHFZuY",
        "colab_type": "code",
        "colab": {
          "base_uri": "https://localhost:8080/",
          "height": 295
        },
        "outputId": "9a067ab4-b6c2-42a2-8a81-f61cce577245"
      },
      "source": [
        "Xs, _, ys, _ = train_test_split(X_g, y, stratify=y, train_size=0.04)\n",
        "\n",
        "dist_plot(ys)"
      ],
      "execution_count": 20,
      "outputs": [
        {
          "output_type": "display_data",
          "data": {
            "image/png": "[encoded data removed]",
            "text/plain": [
              "<Figure size 432x288 with 1 Axes>"
            ]
          },
          "metadata": {
            "tags": []
          }
        }
      ]
    },
    {
      "cell_type": "code",
      "metadata": {
        "id": "4ysA3B1cKxvS",
        "colab_type": "code",
        "colab": {
          "base_uri": "https://localhost:8080/",
          "height": 34
        },
        "outputId": "c7c24746-d49e-4b68-e7aa-13abac40b011"
      },
      "source": [
        "train_scores, test_scores = evaluate_learners(classifiers, Xs, ys)"
      ],
      "execution_count": 21,
      "outputs": [
        {
          "output_type": "stream",
          "text": [
            "---- 319.19349 seconds ----\n"
          ],
          "name": "stdout"
        }
      ]
    },
    {
      "cell_type": "code",
      "metadata": {
        "id": "UxvI2y3zHCnI",
        "colab_type": "code",
        "colab": {
          "base_uri": "https://localhost:8080/",
          "height": 279
        },
        "outputId": "3e183858-0bbe-4d65-cafd-731269df4971"
      },
      "source": [
        "plot_test_train_scores(train_scores, test_scores)"
      ],
      "execution_count": 22,
      "outputs": [
        {
          "output_type": "display_data",
          "data": {
            "image/png": "[encoded data removed]",
            "text/plain": [
              "<Figure size 432x288 with 1 Axes>"
            ]
          },
          "metadata": {
            "tags": []
          }
        }
      ]
    },
    {
      "cell_type": "markdown",
      "metadata": {
        "id": "EIZdQTSLM7Rb",
        "colab_type": "text"
      },
      "source": [
        "Models are overfitted. I wanted better results. Increasing of sample size caused better result.\n",
        "\n",
        "When sample size was bigger it took more time to evaluate modls. It was expected because more data you have more time machine needs to process it.\n",
        "\n",
        "To increase accuracy we need to amend hyperparameters and include more data or use deep learning."
      ]
    },
    {
      "cell_type": "markdown",
      "metadata": {
        "id": "hsebuR_xHZg8",
        "colab_type": "text"
      },
      "source": [
        ""
      ]
    },
    {
      "cell_type": "markdown",
      "metadata": {
        "id": "KXQh7T4VuHCP",
        "colab_type": "text"
      },
      "source": [
        "### Evaluate feed-forward neural network\n",
        "\n",
        "Counter-intuitively, even though the linear models above are slow, you can easily train the small neural network below with 100% of the data in very little time. Learn more about Google Colab if you're curious: https://research.google.com/colaboratory/faq.html \n",
        "1. Train a neural network on the full (100%) data. Start with a single hidden layer with 256 neurons, and the same output layer as this week's Fashion-MNIST lab. Evaluate the accuracy using an 80/20 train test split. How does it compare with the linear models?\n",
        "2. Plot the confusion matrix. Which digits are often confused with each other? \n",
        "3. Plot the first 15 correctly classified examples and the first 15 incorrectly classified examples, along with a bar plot of the predictions array. You can use the provided plotting functions. What sort of errors do you see? Are these indeed 'hard' examples that are easy to get wrong?\n"
      ]
    },
    {
      "cell_type": "code",
      "metadata": {
        "id": "KKmFSmhFOxhU",
        "colab_type": "code",
        "colab": {}
      },
      "source": [
        "model = keras.Sequential([\n",
        "    keras.layers.Flatten(input_shape=(1024,)),\n",
        "    keras.layers.Dense(256, activation='relu'),\n",
        "    keras.layers.Dense(10)\n",
        "])"
      ],
      "execution_count": 0,
      "outputs": []
    },
    {
      "cell_type": "code",
      "metadata": {
        "id": "-g7CjCn9P8hh",
        "colab_type": "code",
        "colab": {}
      },
      "source": [
        "model.compile(\n",
        "    optimizer=\"adam\",\n",
        "    loss=tf.keras.losses.SparseCategoricalCrossentropy(from_logits=True),\n",
        "    metrics=[\"accuracy\"]\n",
        ")"
      ],
      "execution_count": 0,
      "outputs": []
    },
    {
      "cell_type": "code",
      "metadata": {
        "id": "JBE_kd0kQhMO",
        "colab_type": "code",
        "colab": {}
      },
      "source": [
        "X_train, X_test, y_train, y_test = train_test_split(X_g, y, train_size=0.8)\n",
        "X_train_cl, X_test_cl, y_train_cl, y_test_cl = train_test_split(X, y, train_size=0.8)"
      ],
      "execution_count": 0,
      "outputs": []
    },
    {
      "cell_type": "code",
      "metadata": {
        "id": "k1_ajSwiRMtT",
        "colab_type": "code",
        "colab": {
          "base_uri": "https://localhost:8080/",
          "height": 255
        },
        "outputId": "4a2dcdc3-7509-454a-e6d4-05b3973a90c7"
      },
      "source": [
        "model.summary()"
      ],
      "execution_count": 26,
      "outputs": [
        {
          "output_type": "stream",
          "text": [
            "Model: \"sequential\"\n",
            "_________________________________________________________________\n",
            "Layer (type)                 Output Shape              Param #   \n",
            "=================================================================\n",
            "flatten (Flatten)            (None, 1024)              0         \n",
            "_________________________________________________________________\n",
            "dense (Dense)                (None, 256)               262400    \n",
            "_________________________________________________________________\n",
            "dense_1 (Dense)              (None, 10)                2570      \n",
            "=================================================================\n",
            "Total params: 264,970\n",
            "Trainable params: 264,970\n",
            "Non-trainable params: 0\n",
            "_________________________________________________________________\n"
          ],
          "name": "stdout"
        }
      ]
    },
    {
      "cell_type": "code",
      "metadata": {
        "id": "u9i5Nne2Rwxi",
        "colab_type": "code",
        "colab": {
          "base_uri": "https://localhost:8080/",
          "height": 731
        },
        "outputId": "91be0dcd-8061-4ef6-c642-24d78052a37b"
      },
      "source": [
        "model.fit(X_train, y_train, epochs=20)"
      ],
      "execution_count": 27,
      "outputs": [
        {
          "output_type": "stream",
          "text": [
            "Train on 79431 samples\n",
            "Epoch 1/20\n",
            "79431/79431 [==============================] - 16s 199us/sample - loss: 2.0315 - accuracy: 0.2649\n",
            "Epoch 2/20\n",
            "79431/79431 [==============================] - 19s 241us/sample - loss: 1.6303 - accuracy: 0.4418\n",
            "Epoch 3/20\n",
            "79431/79431 [==============================] - 18s 230us/sample - loss: 1.4917 - accuracy: 0.5061\n",
            "Epoch 4/20\n",
            "79431/79431 [==============================] - 13s 170us/sample - loss: 1.4400 - accuracy: 0.5282\n",
            "Epoch 5/20\n",
            "79431/79431 [==============================] - 15s 193us/sample - loss: 1.4058 - accuracy: 0.5422\n",
            "Epoch 6/20\n",
            "79431/79431 [==============================] - 15s 190us/sample - loss: 1.3838 - accuracy: 0.5511\n",
            "Epoch 7/20\n",
            "79431/79431 [==============================] - 16s 195us/sample - loss: 1.3595 - accuracy: 0.5605\n",
            "Epoch 8/20\n",
            "79431/79431 [==============================] - 15s 192us/sample - loss: 1.3355 - accuracy: 0.5679\n",
            "Epoch 9/20\n",
            "79431/79431 [==============================] - 16s 198us/sample - loss: 1.3161 - accuracy: 0.5773\n",
            "Epoch 10/20\n",
            "79431/79431 [==============================] - 13s 165us/sample - loss: 1.2915 - accuracy: 0.5907\n",
            "Epoch 11/20\n",
            "79431/79431 [==============================] - 13s 169us/sample - loss: 1.2626 - accuracy: 0.6017\n",
            "Epoch 12/20\n",
            "79431/79431 [==============================] - 14s 175us/sample - loss: 1.2304 - accuracy: 0.6166\n",
            "Epoch 13/20\n",
            "79431/79431 [==============================] - 13s 167us/sample - loss: 1.2156 - accuracy: 0.6203\n",
            "Epoch 14/20\n",
            "79431/79431 [==============================] - 14s 177us/sample - loss: 1.1979 - accuracy: 0.6288\n",
            "Epoch 15/20\n",
            "79431/79431 [==============================] - 13s 170us/sample - loss: 1.1922 - accuracy: 0.6307\n",
            "Epoch 16/20\n",
            "79431/79431 [==============================] - 14s 173us/sample - loss: 1.1822 - accuracy: 0.6343\n",
            "Epoch 17/20\n",
            "79431/79431 [==============================] - 14s 173us/sample - loss: 1.1770 - accuracy: 0.6364\n",
            "Epoch 18/20\n",
            "79431/79431 [==============================] - 13s 161us/sample - loss: 1.1686 - accuracy: 0.6401\n",
            "Epoch 19/20\n",
            "79431/79431 [==============================] - 12s 157us/sample - loss: 1.1637 - accuracy: 0.6439\n",
            "Epoch 20/20\n",
            "79431/79431 [==============================] - 12s 152us/sample - loss: 1.1573 - accuracy: 0.6453\n"
          ],
          "name": "stdout"
        },
        {
          "output_type": "execute_result",
          "data": {
            "text/plain": [
              "<tensorflow.python.keras.callbacks.History at 0x7f44959357b8>"
            ]
          },
          "metadata": {
            "tags": []
          },
          "execution_count": 27
        }
      ]
    },
    {
      "cell_type": "code",
      "metadata": {
        "id": "8Kfsi2T4TKDz",
        "colab_type": "code",
        "colab": {}
      },
      "source": [
        "probability_model = tf.keras.Sequential(\n",
        "    [model, tf.keras.layers.Softmax()]\n",
        ")\n",
        "predictions = model.predict_classes(X_test)\n",
        "prediction_probabilities = probability_model.predict(X_test)"
      ],
      "execution_count": 0,
      "outputs": []
    },
    {
      "cell_type": "code",
      "metadata": {
        "id": "kLypVgF2S9Fw",
        "colab_type": "code",
        "colab": {
          "base_uri": "https://localhost:8080/",
          "height": 279
        },
        "outputId": "8bc9b405-9918-494f-8efe-2b31709b00f5"
      },
      "source": [
        "from sklearn.metrics import confusion_matrix\n",
        "import seaborn as sn\n",
        "\n",
        "cm = confusion_matrix(y_test, predictions)\n",
        "\n",
        "def plot_conf_matrix(cm, labels, scale=None):\n",
        "    fig, ax = plt.subplots()\n",
        "    cm_scaled = None\n",
        "    if scale:\n",
        "        cm_scaled = cm.copy()\n",
        "        cm_scaled[cm_scaled < cm_scaled.max() / 3] = cm_scaled[cm_scaled < cm_scaled.max() / 3] * scale\n",
        "        \n",
        "    if cm_scaled is None:\n",
        "        im = ax.imshow(cm, cmap=plt.cm.hot_r)\n",
        "\n",
        "    else:\n",
        "        im = ax.imshow(cm_scaled)\n",
        "    \n",
        "    ax.grid(False)\n",
        "    ax.set_xticks(list(class_labels.values()))\n",
        "    ax.set_yticks(list(class_labels.values()))\n",
        "    ax.set_xticklabels(labels)\n",
        "    ax.set_yticklabels(labels)\n",
        "    ax.set_ylabel(\"True\")\n",
        "    ax.set_xlabel(\"Predicted\")\n",
        "\n",
        "    for i in range(100):\n",
        "        if  cm[i%10, int(i/10)]:\n",
        "            ax.text(\n",
        "                int(i/10), i%10, cm[i%10,int(i/10)],\n",
        "                 ha=\"center\", va=\"center\", color=\"purple\"\n",
        "            )\n",
        "\n",
        "plot_conf_matrix(cm, list(class_labels.values()))"
      ],
      "execution_count": 29,
      "outputs": [
        {
          "output_type": "display_data",
          "data": {
            "image/png": "[encoded data removed]",
            "text/plain": [
              "<Figure size 432x288 with 1 Axes>"
            ]
          },
          "metadata": {
            "tags": []
          }
        }
      ]
    },
    {
      "cell_type": "code",
      "metadata": {
        "id": "qAqj4k1njcUU",
        "colab_type": "code",
        "colab": {}
      },
      "source": [
        "def plot_image(predictions_array, true_label, img):\n",
        "  plt.grid(False)\n",
        "  plt.xticks([])\n",
        "  plt.yticks([])\n",
        "\n",
        "  plt.imshow(img, cmap=plt.cm.binary)\n",
        "\n",
        "  predicted_label = np.argmax(predictions_array)\n",
        "  if predicted_label == true_label:\n",
        "    color = \"blue\"\n",
        "  else:\n",
        "    color = \"red\"\n",
        "\n",
        "  plt.xlabel(\"{} {:2.0f}% ({})\".format(\n",
        "    class_labels[predicted_label],\n",
        "    100*np.max(predictions_array),\n",
        "    class_labels[true_label]\n",
        "    ), color=color)\n",
        "\n",
        "def plot_value_array(predictions_array, true_label):\n",
        "  plt.grid(False)\n",
        "  plt.xticks(np.arange(10), list(range(10)), rotation=90)\n",
        "  plt.yticks([])\n",
        "  ax = plt.bar(range(10), predictions_array, color=\"#777777\")\n",
        "  plt.ylim([0, 1])\n",
        "  predicted_label = np.argmax(predictions_array)\n",
        "  ax[predicted_label].set_color(\"red\")\n",
        "  ax[true_label].set_color(\"blue\")"
      ],
      "execution_count": 0,
      "outputs": []
    },
    {
      "cell_type": "code",
      "metadata": {
        "id": "Qc3D7AZ9RBcE",
        "colab_type": "code",
        "colab": {}
      },
      "source": [
        "missclassified_query = y_test != predictions\n",
        "\n",
        "missclassified_images = X_test[missclassified_query]\n",
        "missclassified_actual_labels = y_test[missclassified_query]\n",
        "missclassified_probabilities = prediction_probabilities[missclassified_query]"
      ],
      "execution_count": 0,
      "outputs": []
    },
    {
      "cell_type": "code",
      "metadata": {
        "id": "8VmhEq_kKveY",
        "colab_type": "code",
        "colab": {
          "base_uri": "https://localhost:8080/",
          "height": 34
        },
        "outputId": "b26d0feb-e6ae-4943-bb9d-111346a16e05"
      },
      "source": [
        "missclassified_images.shape"
      ],
      "execution_count": 32,
      "outputs": [
        {
          "output_type": "execute_result",
          "data": {
            "text/plain": [
              "(7076, 1024)"
            ]
          },
          "metadata": {
            "tags": []
          },
          "execution_count": 32
        }
      ]
    },
    {
      "cell_type": "code",
      "metadata": {
        "id": "F_pFUI3fJIB5",
        "colab_type": "code",
        "colab": {
          "base_uri": "https://localhost:8080/",
          "height": 1000
        },
        "outputId": "868943ec-8b4c-4c81-c929-e6058a186c71"
      },
      "source": [
        "plt.figure(figsize=(8, 32))\n",
        "\n",
        "for i in range(10):\n",
        "    plt.subplot(10, 2, 2 * i + 1)\n",
        "    plot_image(\n",
        "      missclassified_probabilities[i], \n",
        "      missclassified_actual_labels[i],\n",
        "      missclassified_images[i].reshape(32,32)\n",
        "    )\n",
        "    plt.subplot(10, 2, 2 * i + 2)\n",
        "    plot_value_array(\n",
        "      missclassified_probabilities[i], \n",
        "      missclassified_actual_labels[i]\n",
        "    )\n",
        "\n",
        "plt.show()"
      ],
      "execution_count": 33,
      "outputs": [
        {
          "output_type": "display_data",
          "data": {
            "image/png": "[encoded data removed]",
            "text/plain": [
              "<Figure size 576x2304 with 20 Axes>"
            ]
          },
          "metadata": {
            "tags": []
          }
        }
      ]
    },
    {
      "cell_type": "markdown",
      "metadata": {
        "id": "UxQMwdYXP5Np",
        "colab_type": "text"
      },
      "source": [
        "Unfortunately, I got only 55% of accuracy on training data, so test data would show even less."
      ]
    },
    {
      "cell_type": "markdown",
      "metadata": {
        "id": "HqEXUgyYuEVJ",
        "colab_type": "text"
      },
      "source": [
        "Bonus challenge: \n",
        "Can you improve the model performance from this first Keras model?\n",
        "If you wonder about how researchers get to 98% accuracy, here is a list of papers :)\n",
        "https://rodrigob.github.io/are_we_there_yet/build/classification_datasets_results.html#5356484e "
      ]
    },
    {
      "cell_type": "markdown",
      "metadata": {
        "id": "xZXhGwrFQLdB",
        "colab_type": "text"
      },
      "source": [
        "I decided to raise accuracy by image processing. So my point is that if I changed the image contrast it would be easier for model to classify the digit. Let's see how is it going to work."
      ]
    },
    {
      "cell_type": "code",
      "metadata": {
        "id": "3f8hO6JVGWUb",
        "colab_type": "code",
        "outputId": "d8f11857-b205-448c-ef72-bdc1fbdf8762",
        "colab": {
          "base_uri": "https://localhost:8080/",
          "height": 34
        }
      },
      "source": [
        "X_c = X_g.reshape(101671936)\n",
        "X_c.mean()"
      ],
      "execution_count": 34,
      "outputs": [
        {
          "output_type": "execute_result",
          "data": {
            "text/plain": [
              "0.44753543"
            ]
          },
          "metadata": {
            "tags": []
          },
          "execution_count": 34
        }
      ]
    },
    {
      "cell_type": "code",
      "metadata": {
        "id": "ntIBD4V1H1bl",
        "colab_type": "code",
        "colab": {}
      },
      "source": [
        "X_c[X_c > 0.5 ] = 1.0\n",
        "X_c[X_c < 0.37] = 0.0\n",
        "X_c = X_c.reshape(99289, 1024)"
      ],
      "execution_count": 0,
      "outputs": []
    },
    {
      "cell_type": "code",
      "metadata": {
        "id": "uHZuSCnYIVhT",
        "colab_type": "code",
        "outputId": "d3eecaaf-ed32-4a46-b448-563d37108d40",
        "colab": {
          "base_uri": "https://localhost:8080/",
          "height": 94
        }
      },
      "source": [
        "plot_images(X_c[10:20], y[10:20], grayscale=True)"
      ],
      "execution_count": 36,
      "outputs": [
        {
          "output_type": "display_data",
          "data": {
            "image/png": "[encoded data removed]",
            "text/plain": [
              "<Figure size 720x360 with 10 Axes>"
            ]
          },
          "metadata": {
            "tags": []
          }
        }
      ]
    },
    {
      "cell_type": "code",
      "metadata": {
        "id": "6rh0BkwJIqOd",
        "colab_type": "code",
        "colab": {}
      },
      "source": [
        "X_train_c, X_test_c, y_train_c, y_test_c = train_test_split(X_c, y, train_size=0.8)"
      ],
      "execution_count": 0,
      "outputs": []
    },
    {
      "cell_type": "code",
      "metadata": {
        "id": "p3h3m_zaQmG5",
        "colab_type": "code",
        "colab": {}
      },
      "source": [
        "model = keras.Sequential([\n",
        "    keras.layers.Flatten(input_shape=(1024,)),\n",
        "    keras.layers.Dense(256, activation='sigmoid'),\n",
        "    keras.layers.Dense(10)\n",
        "])\n",
        "\n",
        "model.compile(\n",
        "    optimizer=\"adam\",\n",
        "    loss=tf.keras.losses.SparseCategoricalCrossentropy(from_logits=True),\n",
        "    metrics=[\"accuracy\"]\n",
        ")"
      ],
      "execution_count": 0,
      "outputs": []
    },
    {
      "cell_type": "code",
      "metadata": {
        "id": "Q_JDB3ntIvzj",
        "colab_type": "code",
        "colab": {
          "base_uri": "https://localhost:8080/",
          "height": 391
        },
        "outputId": "dbd52fdb-2010-4413-a545-3eded4322316"
      },
      "source": [
        "model.fit(X_train_c, y_train_c, epochs=10)"
      ],
      "execution_count": 39,
      "outputs": [
        {
          "output_type": "stream",
          "text": [
            "Train on 79431 samples\n",
            "Epoch 1/10\n",
            "79431/79431 [==============================] - 9s 119us/sample - loss: 1.6939 - accuracy: 0.4346\n",
            "Epoch 2/10\n",
            "79431/79431 [==============================] - 9s 117us/sample - loss: 1.2853 - accuracy: 0.5827\n",
            "Epoch 3/10\n",
            "79431/79431 [==============================] - 9s 117us/sample - loss: 1.1524 - accuracy: 0.6263\n",
            "Epoch 4/10\n",
            "79431/79431 [==============================] - 9s 117us/sample - loss: 1.0724 - accuracy: 0.6517\n",
            "Epoch 5/10\n",
            "79431/79431 [==============================] - 9s 107us/sample - loss: 1.0212 - accuracy: 0.6683\n",
            "Epoch 6/10\n",
            "79431/79431 [==============================] - 9s 108us/sample - loss: 0.9803 - accuracy: 0.6799\n",
            "Epoch 7/10\n",
            "79431/79431 [==============================] - 8s 107us/sample - loss: 0.9520 - accuracy: 0.6892\n",
            "Epoch 8/10\n",
            "79431/79431 [==============================] - 9s 108us/sample - loss: 0.9205 - accuracy: 0.6981\n",
            "Epoch 9/10\n",
            "79431/79431 [==============================] - 9s 108us/sample - loss: 0.8912 - accuracy: 0.7071\n",
            "Epoch 10/10\n",
            "79431/79431 [==============================] - 8s 106us/sample - loss: 0.8689 - accuracy: 0.7151\n"
          ],
          "name": "stdout"
        },
        {
          "output_type": "execute_result",
          "data": {
            "text/plain": [
              "<tensorflow.python.keras.callbacks.History at 0x7f447e09a9b0>"
            ]
          },
          "metadata": {
            "tags": []
          },
          "execution_count": 39
        }
      ]
    },
    {
      "cell_type": "code",
      "metadata": {
        "id": "XdeHevthQ4Ci",
        "colab_type": "code",
        "colab": {
          "base_uri": "https://localhost:8080/",
          "height": 34
        },
        "outputId": "b2c13850-9a59-4b29-f04d-00c78b417d95"
      },
      "source": [
        "from sklearn.metrics import accuracy_score\n",
        "\n",
        "predictions_c = model.predict_classes(X_test_c)\n",
        "\n",
        "accuracy_score(y_test_c, predictions_c)"
      ],
      "execution_count": 40,
      "outputs": [
        {
          "output_type": "execute_result",
          "data": {
            "text/plain": [
              "0.6604894752744486"
            ]
          },
          "metadata": {
            "tags": []
          },
          "execution_count": 40
        }
      ]
    },
    {
      "cell_type": "markdown",
      "metadata": {
        "id": "1bK5B8qaSJ7k",
        "colab_type": "text"
      },
      "source": [
        "So that's better than 55% but still not good."
      ]
    },
    {
      "cell_type": "code",
      "metadata": {
        "id": "TKOBjsVWSIg5",
        "colab_type": "code",
        "colab": {}
      },
      "source": [
        "X_c_2 = X_g.reshape(101671936)\n",
        "X_c_2[X_c_2 >= 0.75 ] = 0.875\n",
        "X_c_2[(X_c_2 >= 0.50) & (X_c_2 < 0.75)] = 0.625\n",
        "X_c_2[(X_c_2 >= 0.25) & (X_c_2 < 0.50)] = .375\n",
        "X_c_2[(X_c_2 < 0.25)] = .125\n",
        "\n",
        "X_c_2 = X_c_2.reshape(99289, 1024)"
      ],
      "execution_count": 0,
      "outputs": []
    },
    {
      "cell_type": "code",
      "metadata": {
        "id": "vDIWC7lyTANM",
        "colab_type": "code",
        "outputId": "739af957-f87a-4d21-a13e-a4529ae3e9ce",
        "colab": {
          "base_uri": "https://localhost:8080/",
          "height": 94
        }
      },
      "source": [
        "plot_images(X_c_2[1570:1580], y[1570:1580], grayscale=True)"
      ],
      "execution_count": 42,
      "outputs": [
        {
          "output_type": "display_data",
          "data": {
            "image/png": "[encoded data removed]",
            "text/plain": [
              "<Figure size 720x360 with 10 Axes>"
            ]
          },
          "metadata": {
            "tags": []
          }
        }
      ]
    },
    {
      "cell_type": "code",
      "metadata": {
        "id": "j4SYtlVqTEc1",
        "colab_type": "code",
        "outputId": "b651c1e0-2c63-4545-b282-46cd1c3581e8",
        "colab": {
          "base_uri": "https://localhost:8080/",
          "height": 94
        }
      },
      "source": [
        "plot_images(X_g[1570:1580], y[1570:1580], grayscale=True)"
      ],
      "execution_count": 43,
      "outputs": [
        {
          "output_type": "display_data",
          "data": {
            "image/png": "[encoded data removed]",
            "text/plain": [
              "<Figure size 720x360 with 10 Axes>"
            ]
          },
          "metadata": {
            "tags": []
          }
        }
      ]
    },
    {
      "cell_type": "code",
      "metadata": {
        "id": "9pCs5tM2Ugw_",
        "colab_type": "code",
        "colab": {}
      },
      "source": [
        "X_train_c_2, X_test_c_2, y_train_c_2, y_test_c_2 = train_test_split(X_c_2, y, train_size=0.8)"
      ],
      "execution_count": 0,
      "outputs": []
    },
    {
      "cell_type": "code",
      "metadata": {
        "id": "6lvSes3zTzLE",
        "colab_type": "code",
        "colab": {}
      },
      "source": [
        "model = keras.Sequential([\n",
        "    keras.layers.Flatten(input_shape=(1024,)),\n",
        "    keras.layers.Dense(256, activation='sigmoid'),\n",
        "    keras.layers.Dense(10)\n",
        "])\n",
        "\n",
        "model.compile(\n",
        "    optimizer=\"adam\",\n",
        "    loss=tf.keras.losses.SparseCategoricalCrossentropy(from_logits=True),\n",
        "    metrics=[\"accuracy\"]\n",
        ")"
      ],
      "execution_count": 0,
      "outputs": []
    },
    {
      "cell_type": "code",
      "metadata": {
        "id": "QVPM_1seUGIU",
        "colab_type": "code",
        "colab": {
          "base_uri": "https://localhost:8080/",
          "height": 391
        },
        "outputId": "5400d86c-4fcb-49c1-b32b-28712da3d084"
      },
      "source": [
        "model.fit(X_train_c_2, y_train_c_2, epochs=10)"
      ],
      "execution_count": 46,
      "outputs": [
        {
          "output_type": "stream",
          "text": [
            "Train on 79431 samples\n",
            "Epoch 1/10\n",
            "79431/79431 [==============================] - 8s 95us/sample - loss: 2.0077 - accuracy: 0.2968\n",
            "Epoch 2/10\n",
            "79431/79431 [==============================] - 7s 89us/sample - loss: 1.5668 - accuracy: 0.4793\n",
            "Epoch 3/10\n",
            "79431/79431 [==============================] - 7s 93us/sample - loss: 1.3426 - accuracy: 0.5629\n",
            "Epoch 4/10\n",
            "79431/79431 [==============================] - 7s 92us/sample - loss: 1.2144 - accuracy: 0.6086\n",
            "Epoch 5/10\n",
            "79431/79431 [==============================] - 7s 90us/sample - loss: 1.1324 - accuracy: 0.6340\n",
            "Epoch 6/10\n",
            "79431/79431 [==============================] - 7s 89us/sample - loss: 1.0740 - accuracy: 0.6512\n",
            "Epoch 7/10\n",
            "79431/79431 [==============================] - 6s 81us/sample - loss: 1.0213 - accuracy: 0.6695\n",
            "Epoch 8/10\n",
            "79431/79431 [==============================] - 7s 83us/sample - loss: 0.9777 - accuracy: 0.6841\n",
            "Epoch 9/10\n",
            "79431/79431 [==============================] - 7s 86us/sample - loss: 0.9460 - accuracy: 0.6959\n",
            "Epoch 10/10\n",
            "79431/79431 [==============================] - 6s 79us/sample - loss: 0.9119 - accuracy: 0.7054\n"
          ],
          "name": "stdout"
        },
        {
          "output_type": "execute_result",
          "data": {
            "text/plain": [
              "<tensorflow.python.keras.callbacks.History at 0x7f447b2c36a0>"
            ]
          },
          "metadata": {
            "tags": []
          },
          "execution_count": 46
        }
      ]
    },
    {
      "cell_type": "code",
      "metadata": {
        "id": "lZCSQNzIUG-G",
        "colab_type": "code",
        "colab": {
          "base_uri": "https://localhost:8080/",
          "height": 34
        },
        "outputId": "ff6ec4bc-ec3b-44d9-addc-9b032f502f48"
      },
      "source": [
        "predictions_c_2 = model.predict_classes(X_test_c_2)\n",
        "\n",
        "accuracy_score(y_test_c, predictions_c_2)"
      ],
      "execution_count": 47,
      "outputs": [
        {
          "output_type": "execute_result",
          "data": {
            "text/plain": [
              "0.12110988014905831"
            ]
          },
          "metadata": {
            "tags": []
          },
          "execution_count": 47
        }
      ]
    },
    {
      "cell_type": "markdown",
      "metadata": {
        "id": "F9TAKsh08YQ2",
        "colab_type": "text"
      },
      "source": [
        "Yeah, my idea helped a litte bit (In first case), my model performed better. But I have to little kowledges about neural networks and how they work so that I decided to find in the web what is the best way to recognize images. hopefully, I found CNN.\n",
        "\n",
        "Afterwards I figured out that what I were doing above is... kinda changing input images before neural network process them to perform better. In other words I applied a humble filter on my dataset to contrast shapes of the digits itselves (OMG, that's what CNN does!).\n",
        "```\n",
        "X_c[X_c > 0.5 ] = 1.0 # X_c from X_contrast\n",
        "X_c[X_c < 0.37] = 0.0\n",
        "``` \n",
        "I decided to raise contrast of black pixels for all the ones which already have more than 0.5 and decrease to 0 for all the ones who have less than 0.37 (the interval between 0.37 and 0.5 I remained untouched just randomly. Moreover these numbers were randomly intuitively generated just a strike out, with the idea that black values should be more black and white values should be white, but I should leave smth untouched just to not to spoil my images).\n",
        "\n",
        "Of course it was only 1 filter and its logic so so simple and it worked much much worse than it is implemented in CNN's frameworks but I accidentaly ( Or I would say intuitively) decided to do the same approach, what is good, but what is even better is that there is already \"invented bike\" which performs MUCH better than mine.\n",
        "\n",
        "Okay, let's try these convolutional layers."
      ]
    },
    {
      "cell_type": "code",
      "metadata": {
        "id": "xoWeEnmfc7H2",
        "colab_type": "code",
        "colab": {}
      },
      "source": [
        "from tensorflow.keras import models\n",
        "from tensorflow.keras import layers\n",
        "\n",
        "if not GET_SAVED_DATA_FROM_DRIVE:\n",
        "    convolutional_neural_model = models.Sequential([\n",
        "        layers.Convolution2D(\n",
        "            filters=32,\n",
        "            input_shape=(32, 32, 3), \n",
        "            kernel_size=(5, 5), \n",
        "            strides=(1, 1),\n",
        "            activation=\"relu\"\n",
        "        ),\n",
        "        layers.MaxPooling2D(pool_size=(2, 2), strides=(2, 2)),\n",
        "        layers.Convolution2D(\n",
        "            input_shape=(16, 16, 3),\n",
        "            filters=64,\n",
        "            kernel_size=(5, 5),\n",
        "            activation=\"relu\"\n",
        "        ),\n",
        "        layers.MaxPooling2D(pool_size=(2, 2)),\n",
        "        layers.Flatten(),\n",
        "        layers.Dense(1000, activation=\"relu\"),\n",
        "        layers.Dense(len(class_labels), activation=\"softmax\")\n",
        "    ])\n",
        "    convolutional_neural_model.compile(\n",
        "        optimizer=\"adam\",\n",
        "        loss=keras.losses.SparseCategoricalCrossentropy(from_logits=True),\n",
        "        metrics=[\"accuracy\"]\n",
        "    )\n",
        "    convolutional_neural_model.fit(\n",
        "        X_train_cl.reshape(len(X_train_cl), 32, 32, 3), y_train_cl, epochs=10\n",
        "    )\n",
        "else:\n",
        "    convolutional_neural_model = models.load_model(\n",
        "        f\"{BASE_DIR}/convolutional_neural_model.h5\"\n",
        "    )"
      ],
      "execution_count": 0,
      "outputs": []
    },
    {
      "cell_type": "markdown",
      "metadata": {
        "id": "QoPwvQOKYHVS",
        "colab_type": "text"
      },
      "source": [
        "Unfortunatelly this model finished with:\n",
        "\n",
        "loss: 2.3674\n",
        "\n",
        "accuracy: 0.0938"
      ]
    },
    {
      "cell_type": "markdown",
      "metadata": {
        "id": "yVU91K9Bbi81",
        "colab_type": "text"
      },
      "source": [
        "So after that bad performance I was a little bit upset and decided to [DuckDuckGo different models architectures](https://duckduckgo.com/?q=convnet+example&t=brave&ia=web) (DuckDuckGo is just my search engine, I could alternatively say \"to google it\", but I don't want to support Google's monopoly over search engines). \n",
        "\n",
        "I found [this example](https://github.com/keras-team/keras/blob/master/examples/cifar10_cnn.py) and decided to implement the same architecture."
      ]
    },
    {
      "cell_type": "code",
      "metadata": {
        "id": "4CRgUEXBWAcV",
        "colab_type": "code",
        "colab": {}
      },
      "source": [
        "X_train = X_train.reshape(len(X_train), 32, 32, 1)\n",
        "X_test = X_test.reshape(len(X_test), 32, 32, 1)"
      ],
      "execution_count": 0,
      "outputs": []
    },
    {
      "cell_type": "code",
      "metadata": {
        "id": "PMWz9saZ7Jc-",
        "colab_type": "code",
        "colab": {}
      },
      "source": [
        "if not GET_SAVED_DATA_FROM_DRIVE:\n",
        "    model_2 = models.Sequential([\n",
        "        layers.Conv2D(32, (3, 3), padding=\"same\", input_shape=(32, 32, 1)),\n",
        "        layers.Activation(\"relu\"),\n",
        "        layers.Conv2D(32, (3, 3)),\n",
        "        layers.Activation(\"relu\"),\n",
        "        layers.MaxPooling2D(pool_size=(2, 2)),\n",
        "        layers.Dropout(0.25),\n",
        "\n",
        "        layers.Conv2D(64, (3, 3), padding=\"same\"),\n",
        "        layers.Activation(\"relu\"),\n",
        "        layers.Conv2D(64, (3, 3)),\n",
        "        layers.Activation(\"relu\"),\n",
        "        layers.MaxPooling2D(pool_size=(2, 2)),\n",
        "        layers.Dropout(0.25),\n",
        "\n",
        "        layers.Flatten(),\n",
        "        layers.Dense(512),\n",
        "        layers.Activation(\"relu\"),\n",
        "        layers.Dropout(0.5),\n",
        "        layers.Dense(len(class_labels)),\n",
        "        layers.Activation(\"softmax\")\n",
        "    ])\n",
        "\n",
        "    opt = keras.optimizers.RMSprop(learning_rate=0.0001, decay=1e-6)\n",
        "    model_2.compile(loss='sparse_categorical_crossentropy', optimizer=opt, metrics=['accuracy'])\n",
        "    model_2.fit(X_train, y_train, epochs=10)\n",
        "else:\n",
        "    model_2 = models.load_model(f\"{BASE_DIR}/model_2.h5\")"
      ],
      "execution_count": 0,
      "outputs": []
    },
    {
      "cell_type": "markdown",
      "metadata": {
        "id": "acUeoqXFWy9Q",
        "colab_type": "text"
      },
      "source": [
        "is \n",
        "```\n",
        "    layers.Conv2D(32, (3, 3), padding=\"same\", input_shape=(32, 32, 1)),\n",
        "    layers.Activation(\"relu\"),\n",
        "```\n",
        "exact the same as \n",
        "```\n",
        "    layers.Conv2D(32, (3, 3), padding=\"same\", input_shape=(32, 32, 1), activation=\"relu\"),\n",
        "```\n",
        "?"
      ]
    },
    {
      "cell_type": "markdown",
      "metadata": {
        "id": "QzSHPeRS0bMe",
        "colab_type": "text"
      },
      "source": [
        "Looking at the details that model showed much better performance on image recognition. So. Let's try something else."
      ]
    },
    {
      "cell_type": "markdown",
      "metadata": {
        "id": "N4lm4R_rIQKX",
        "colab_type": "text"
      },
      "source": [
        "I also found a tutorial of one simple CNN [here](https://github.com/Hvass-Labs/TensorFlow-Tutorials/blob/master/02_Convolutional_Neural_Network.ipynb). Based on that architecture I tried to create my own CNN architecture. \n",
        "\n",
        "It is much simplier than the previous one. "
      ]
    },
    {
      "cell_type": "code",
      "metadata": {
        "id": "JV5W0RRdEuHV",
        "colab_type": "code",
        "colab": {}
      },
      "source": [
        "if not GET_SAVED_DATA_FROM_DRIVE:\n",
        "    model_3 = models.Sequential([\n",
        "        layers.Convolution2D(\n",
        "            filters=16, \n",
        "            kernel_size=(4, 4), \n",
        "            padding=\"same\", \n",
        "            input_shape=(32, 32, 1),\n",
        "            activation=\"relu\"\n",
        "        ),\n",
        "        layers.MaxPooling2D(pool_size=(2, 2)),\n",
        "        layers.Convolution2D(\n",
        "            filters=32, \n",
        "            kernel_size=(4, 4),\n",
        "            input_shape=(16, 16, 1),\n",
        "            activation=\"relu\"\n",
        "        ),\n",
        "        layers.Convolution2D(\n",
        "            filters=64,\n",
        "            kernel_size=(3, 3), \n",
        "            padding=\"same\",\n",
        "            activation=\"relu\"\n",
        "        ),\n",
        "        layers.MaxPooling2D(pool_size=(2, 2)),\n",
        "\n",
        "        layers.Flatten(),\n",
        "        layers.Dense(512, activation=\"relu\"),\n",
        "        layers.Dense(len(class_labels), activation=\"sigmoid\"),\n",
        "    ])\n",
        "\n",
        "    opt = keras.optimizers.RMSprop(learning_rate=0.0001, decay=1e-6)\n",
        "    model_3.compile(\n",
        "        loss=\"sparse_categorical_crossentropy\",\n",
        "        optimizer=opt,\n",
        "        metrics=[\"accuracy\"]\n",
        "    )\n",
        "    model_3.fit(\n",
        "        X_train.reshape(len(X_train), 32, 32, 1), y_train, epochs=10\n",
        "    )\n",
        "else:\n",
        "    model_3 = models.load_model(f\"{BASE_DIR}/model_3.h5\")"
      ],
      "execution_count": 0,
      "outputs": []
    },
    {
      "cell_type": "code",
      "metadata": {
        "id": "RPx5n03xE1du",
        "colab_type": "code",
        "colab": {
          "base_uri": "https://localhost:8080/",
          "height": 68
        },
        "outputId": "aaecddc7-2d57-4ab1-e680-a7d79d41a2a1"
      },
      "source": [
        "from sklearn.metrics import accuracy_score\n",
        "\n",
        "predictions_cnn = convolutional_neural_model.predict_classes(\n",
        "    X_test_cl.reshape(len(X_test_cl), 32,32,3)\n",
        ")\n",
        "predictions_cnn_2 = model_2.predict_classes(X_test)\n",
        "predictions_cnn_3 = model_3.predict_classes(X_test)\n",
        "\n",
        "accuracy_1 = accuracy_score(y_test, predictions_cnn)\n",
        "accuracy_2 = accuracy_score(y_test, predictions_cnn_2)\n",
        "accuracy_3 = accuracy_score(y_test, predictions_cnn_3)\n",
        "\n",
        "print(\n",
        "    f\"Model 1 score: {np.round(accuracy_1 * 100, 3)}%\",\n",
        "    f\"Model 2 score: {np.round(accuracy_2 * 100, 3)}%\",\n",
        "    f\"Model 3 score: {np.round(accuracy_3 * 100, 3)}%\",\n",
        "    sep=\"\\n\"\n",
        ")"
      ],
      "execution_count": 58,
      "outputs": [
        {
          "output_type": "stream",
          "text": [
            "Model 1 score: 9.185%\n",
            "Model 2 score: 91.691%\n",
            "Model 3 score: 92.884%\n"
          ],
          "name": "stdout"
        }
      ]
    },
    {
      "cell_type": "markdown",
      "metadata": {
        "id": "Bwu-1_v3InbY",
        "colab_type": "text"
      },
      "source": [
        "1. It showed almost the same test result.\n",
        "2. It had been fitting much faster"
      ]
    },
    {
      "cell_type": "code",
      "metadata": {
        "id": "DCAu6JcnJDw2",
        "colab_type": "code",
        "colab": {}
      },
      "source": [
        "convolutional_neural_model.save(f\"{BASE_DIR}/convolutional_neural_model.h5\")\n",
        "model_2.save(f\"{BASE_DIR}/model_2.h5\")\n",
        "model_3.save(f\"{BASE_DIR}/model_3.h5\")"
      ],
      "execution_count": 0,
      "outputs": []
    }
  ]
}